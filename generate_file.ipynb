{
 "cells": [
  {
   "cell_type": "code",
   "execution_count": 5,
   "metadata": {},
   "outputs": [
    {
     "data": {
      "text/plain": [
       "'sample2.csv'"
      ]
     },
     "execution_count": 5,
     "metadata": {},
     "output_type": "execute_result"
    }
   ],
   "source": [
    "import pandas as pd\n",
    "import numpy as np\n",
    "\n",
    "# Generate 1000 random observations for x and y\n",
    "np.random.seed(42)  # Set a seed for reproducibility\n",
    "x = np.random.uniform(low=0, high=100, size=1000)  # Random values between 0 and 100\n",
    "y = x * 0.5 + np.random.normal(loc=0, scale=5, size=1000)  # Linear relationship with noise\n",
    "\n",
    "# Create a DataFrame\n",
    "df = pd.DataFrame({'x': x, 'y': y})\n",
    "\n",
    "# Save to CSV\n",
    "csv_path = 'sample2.csv'\n",
    "df.to_csv(csv_path, index=False)\n",
    "\n",
    "csv_path\n"
   ]
  },
  {
   "cell_type": "code",
   "execution_count": 6,
   "metadata": {},
   "outputs": [
    {
     "data": {
      "text/plain": [
       "'sample3.csv'"
      ]
     },
     "execution_count": 6,
     "metadata": {},
     "output_type": "execute_result"
    }
   ],
   "source": [
    "\n",
    "def generate_multilevel_data(n_groups, n_obs_per_group, mu_alpha, sigma_alpha, mu_beta, sigma_beta, sigma_noise):\n",
    "    \"\"\"\n",
    "    Generate multilevel data for Bayesian regression.\n",
    "    \n",
    "    Args:\n",
    "        n_groups (int): Number of groups.\n",
    "        n_obs_per_group (int): Number of observations per group.\n",
    "        mu_alpha (float): Mean of group-level intercept (alpha) distribution.\n",
    "        sigma_alpha (float): Standard deviation of group-level intercept (alpha) distribution.\n",
    "        mu_beta (float): Mean of group-level slope (beta) distribution.\n",
    "        sigma_beta (float): Standard deviation of group-level slope (beta) distribution.\n",
    "        sigma_noise (float): Standard deviation of noise added to y.\n",
    "\n",
    "    Returns:\n",
    "        pd.DataFrame: A dataframe with columns 'x', 'y', and 'group'.\n",
    "    \"\"\"\n",
    "    np.random.seed(42)  # For reproducibility\n",
    "\n",
    "    # Initialize lists to store data\n",
    "    x_data, y_data, group_data = [], [], []\n",
    "\n",
    "    # Generate group-specific intercepts (alpha) and slopes (beta)\n",
    "    alpha_group = np.random.normal(mu_alpha, sigma_alpha, n_groups) # random intercept\n",
    "    beta_group = np.random.normal(mu_beta, sigma_beta, n_groups) # random slope\n",
    "    # these are the random effects\n",
    "    \n",
    "    # Generate data for each group\n",
    "    for group in range(n_groups):\n",
    "        # Generate x values (predictor)\n",
    "        x = np.random.uniform(0, 10, n_obs_per_group)  # Random values between 0 and 10 for x\n",
    "        \n",
    "        # Generate y values based on the group-specific intercept and slope, plus noise\n",
    "        y = alpha_group[group] + beta_group[group] * x + np.random.normal(0, sigma_noise, n_obs_per_group)\n",
    "        \n",
    "        # Append generated data to lists\n",
    "        x_data.extend(x)\n",
    "        y_data.extend(y)\n",
    "        group_data.extend([group] * n_obs_per_group)\n",
    "\n",
    "    # Create a DataFrame\n",
    "    data = pd.DataFrame({\n",
    "        'x': x_data,\n",
    "        'y': y_data,\n",
    "        'group': group_data\n",
    "    })\n",
    "    \n",
    "    return data\n",
    "\n",
    "# Generate data with 5 groups, 50 observations per group\n",
    "data = generate_multilevel_data(\n",
    "    n_groups=5,\n",
    "    n_obs_per_group=50,\n",
    "    mu_alpha=2.0,     # Group-level mean intercept\n",
    "    sigma_alpha=1.0,  # Group-level standard deviation for intercept\n",
    "    mu_beta=0.5,      # Group-level mean slope\n",
    "    sigma_beta=0.1,   # Group-level standard deviation for slope\n",
    "    sigma_noise=1.0   # Noise level\n",
    ")\n",
    "\n",
    "# Save to CSV\n",
    "csv_path = 'sample3.csv'\n",
    "data.to_csv(csv_path, index=False)\n",
    "\n",
    "csv_path"
   ]
  }
 ],
 "metadata": {
  "kernelspec": {
   "display_name": "Python 3",
   "language": "python",
   "name": "python3"
  },
  "language_info": {
   "codemirror_mode": {
    "name": "ipython",
    "version": 3
   },
   "file_extension": ".py",
   "mimetype": "text/x-python",
   "name": "python",
   "nbconvert_exporter": "python",
   "pygments_lexer": "ipython3",
   "version": "3.9.6"
  }
 },
 "nbformat": 4,
 "nbformat_minor": 2
}
